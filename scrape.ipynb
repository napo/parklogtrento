{
 "cells": [
  {
   "cell_type": "code",
   "execution_count": null,
   "metadata": {},
   "outputs": [],
   "source": [
    "import pandas as pd\n",
    "import geopandas as gpd\n",
    "from shapely import wkt\n",
    "import os\n",
    "import json"
   ]
  },
  {
   "cell_type": "code",
   "execution_count": null,
   "metadata": {},
   "outputs": [],
   "source": [
    "url_zones = \"https://parcheggi.comune.trento.it/static/services/registry_zones.json\"\n",
    "url_parks = \"https://parcheggi.comune.trento.it/static/services/registry_parks.json\"\n",
    "parks_geoparquet = \"data\" + os.sep + \"parks.geoparquet\"\n",
    "zones_geoparquet = \"data\" + os.sep + \"zones.geoparquet\""
   ]
  },
  {
   "cell_type": "code",
   "execution_count": 313,
   "metadata": {},
   "outputs": [],
   "source": [
    "def expand_stalls(df):\n",
    "    stalls_df = df['stalls'].apply(pd.Series)\n",
    "    for i in range(stalls_df.shape[1]):\n",
    "        temp_df = stalls_df[i].apply(pd.Series)\n",
    "        temp_df.columns = [f'stalls_{i}_{col}' for col in temp_df.columns]\n",
    "        df = pd.concat([df, temp_df], axis=1)\n",
    "    df.drop(columns=['stalls'], inplace=True)\n",
    "    return df"
   ]
  },
  {
   "cell_type": "code",
   "execution_count": 314,
   "metadata": {},
   "outputs": [],
   "source": [
    "def expand_distances(df):\n",
    "    for index, row in df.iterrows():\n",
    "        if 'distances' in row and row['distances']:\n",
    "            distance_info = json.loads(row.distances)[0]\n",
    "            distance_id = distance_info['id']\n",
    "            distance_meters = distance_info['meters']\n",
    "            df.at[index, f'distance_to_{distance_id}'] = distance_meters\n",
    "        df.at[index, f'distance_to_{row[\"id\"]}'] = 0\n",
    "    return df"
   ]
  },
  {
   "cell_type": "code",
   "execution_count": 315,
   "metadata": {},
   "outputs": [],
   "source": [
    "def expand_opening(df):\n",
    "    for index, row in df.iterrows():\n",
    "        if 'opening' in row and row['opening']:\n",
    "            for d in row['opening'].keys():\n",
    "                df.at[index, f'opening_{d}'] = row['opening'][d]\n",
    "    return df"
   ]
  },
  {
   "cell_type": "code",
   "execution_count": 316,
   "metadata": {},
   "outputs": [],
   "source": [
    "parks = pd.read_json(url_parks)\n",
    "zones = pd.read_json(url_zones)"
   ]
  },
  {
   "cell_type": "code",
   "execution_count": 317,
   "metadata": {},
   "outputs": [],
   "source": [
    "# Apply the function to the parks dataframe\n",
    "#parks = expand_distances(parks)\n",
    "#parks.fillna(0, inplace=True)\n",
    "parks = expand_opening(parks)"
   ]
  },
  {
   "cell_type": "code",
   "execution_count": 318,
   "metadata": {},
   "outputs": [],
   "source": [
    "del parks['distances']"
   ]
  },
  {
   "cell_type": "code",
   "execution_count": 319,
   "metadata": {},
   "outputs": [],
   "source": [
    "for index, row in zones.iterrows():\n",
    "    if 'stalls' in row:\n",
    "        for stall in row.stalls:\n",
    "            type = stall['type']\n",
    "            capacity = stall['capacity']\n",
    "            freeslots = stall['freeslots']\n",
    "            ts = stall['ts'] \n",
    "            zones.at[index, 'stall_' + type + \"_capacity\"] = capacity\n",
    "            zones.at[index, 'stall_' + type + \"_freeslots\"] = freeslots\n",
    "            zones.at[index, 'stall_' + type + \"_ts\"] = ts"
   ]
  },
  {
   "cell_type": "code",
   "execution_count": 320,
   "metadata": {},
   "outputs": [],
   "source": [
    "zones.drop(columns=['stalls'], inplace=True)\n",
    "zones.fillna(0, inplace=True)"
   ]
  },
  {
   "cell_type": "code",
   "execution_count": 321,
   "metadata": {},
   "outputs": [],
   "source": [
    "for col in zones.columns:\n",
    "    if col.startswith('_ts'):\n",
    "        zones[col] = pd.to_datetime(zones[col], unit='s')"
   ]
  },
  {
   "cell_type": "code",
   "execution_count": 322,
   "metadata": {},
   "outputs": [],
   "source": [
    "# Convert the 'geom' column to geometric shapes\n",
    "zones['geom'] = zones['geom'].apply(wkt.loads)\n",
    "# Create a GeoDataFrame\n",
    "zones = gpd.GeoDataFrame(zones, geometry='geom')\n",
    "# Convert the 'geom' column to geometric shapes\n",
    "parks['geom'] = parks['geom'].apply(wkt.loads)\n",
    "# Create a GeoDataFrame\n",
    "parks = gpd.GeoDataFrame(parks, geometry='geom')\n",
    "parks = parks.set_crs(epsg=4326, inplace=True)\n",
    "zones = zones.set_crs(epsg=4326, inplace=True)"
   ]
  },
  {
   "cell_type": "code",
   "execution_count": 323,
   "metadata": {},
   "outputs": [],
   "source": [
    "zones['ts'] = pd.to_datetime(zones['ts'], unit='s')\n",
    "parks['currentTimestamp'] = pd.to_datetime(parks['currentTimestamp'], unit='s')"
   ]
  },
  {
   "cell_type": "code",
   "execution_count": 324,
   "metadata": {},
   "outputs": [
    {
     "name": "stdout",
     "output_type": "stream",
     "text": [
      "10/03/2025 23:03:01\n"
     ]
    }
   ],
   "source": [
    "max_timestamp = parks.currentTimestamp.max()\n",
    "formatted_timestamp = max_timestamp.strftime('%d/%m/%Y %H:%M:%S')\n",
    "print(formatted_timestamp)"
   ]
  },
  {
   "cell_type": "code",
   "execution_count": 325,
   "metadata": {},
   "outputs": [],
   "source": [
    "if os.path.exists(zones_geoparquet) and os.path.exists(parks_geoparquet):\n",
    "    zones_history = gpd.read_parquet(zones_geoparquet)\n",
    "    parks_history = gpd.read_parquet(parks_geoparquet)\n",
    "    if parks_history.currentTimestamp.max() > parks.currentTimestamp.max():\n",
    "        parks_history = parks_history.append(parks, ignore_index=True)\n",
    "        parks_history.to_parquet(parks_geoparquet, engine='pyarrow')\n",
    "    if zones_history.ts.max() > zones_history.ts.max():\n",
    "        zones_history = zones_history.append(zones, ignore_index=True)\n",
    "        zones_history.to_parquet(zones_geoparquet, engine='pyarrow')\n",
    "        print(\"Data already up to date\")\n",
    "else:\n",
    "    parks.to_parquet(parks_geoparquet, engine='pyarrow')\n",
    "    zones.to_parquet(zones_geoparquet, engine='pyarrow')"
   ]
  }
 ],
 "metadata": {
  "kernelspec": {
   "display_name": "Python 3",
   "language": "python",
   "name": "python3"
  },
  "language_info": {
   "codemirror_mode": {
    "name": "ipython",
    "version": 3
   },
   "file_extension": ".py",
   "mimetype": "text/x-python",
   "name": "python",
   "nbconvert_exporter": "python",
   "pygments_lexer": "ipython3",
   "version": "3.12.7"
  }
 },
 "nbformat": 4,
 "nbformat_minor": 2
}
