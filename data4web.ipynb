{
 "cells": [
  {
   "cell_type": "code",
   "execution_count": 81,
   "metadata": {},
   "outputs": [],
   "source": [
    "import numpy as np\n",
    "import pandas as pd\n",
    "import os\n",
    "import json\n",
    "import pytz\n",
    "import geopandas as gpd"
   ]
  },
  {
   "cell_type": "code",
   "execution_count": 82,
   "metadata": {},
   "outputs": [],
   "source": [
    "PARKS_GEOPARQUET = \"data\" + os.sep + \"parks.geoparquet\"\n",
    "ZONES_GEOPARQUET = \"data\" + os.sep + \"zones.geoparquet\""
   ]
  },
  {
   "cell_type": "code",
   "execution_count": 83,
   "metadata": {},
   "outputs": [],
   "source": [
    "parks = gpd.read_parquet(PARKS_GEOPARQUET)\n",
    "zones = gpd.read_parquet(ZONES_GEOPARQUET)"
   ]
  },
  {
   "cell_type": "code",
   "execution_count": 84,
   "metadata": {},
   "outputs": [],
   "source": [
    "def month2mese(s):\n",
    "    return s.replace('January','Gennaio').replace('February','Febbraio').replace('March','Marzo').replace('April','Aprile').replace('May','Maggio').replace('June','Giugno').replace('July','Luglio').replace('August','Agosto').replace('September','Settembre').replace('October','Ottobre').replace('November','Novembre').replace('December','Dicembre')  "
   ]
  },
  {
   "cell_type": "code",
   "execution_count": 85,
   "metadata": {},
   "outputs": [],
   "source": [
    "timestamp_parks = parks.currentTimestamp.max()\n",
    "timestamp_parks_to_print = parks.currentTimestamp.max()\n",
    "if timestamp_parks_to_print.tzinfo is None:\n",
    "    timestamp_parks_to_print = timestamp_parks_to_print.tz_localize('UTC')  \n",
    "rome_tz = pytz.timezone('Europe/Rome')\n",
    "timestamp_parks_to_print = timestamp_parks_to_print.astimezone(rome_tz)\n",
    "lastime_parks_to_print = timestamp_parks_to_print.strftime('%d %B %Y ore %H:%M')\n",
    "lastime_parks_to_print = month2mese(lastime_parks_to_print)\n",
    "timestamp_zones = zones.ts.max()\n",
    "total_carparkspaces = parks[(parks['type'] == 'park') & (parks.currentTimestamp == timestamp_parks)].capacity.sum()\n",
    "total_carparkspaces_free = parks[(parks['type'] == 'park') & (parks.currentTimestamp == timestamp_parks)].freeslots.sum()\n",
    "total_bikeparkspaces = parks[(parks['type'] == 'bike') & (parks.currentTimestamp == timestamp_parks)].capacity.sum()\n",
    "total_bikeparkspaces_free = parks[(parks['type'] == 'bike') & (parks.currentTimestamp == timestamp_parks)].freeslots.sum()\n",
    "to_int = ['stall_blu_capacity','stall_blu_freeslots',\n",
    "          'stall_carico-scarico_capacity','stall_carico-scarico_freeslots',\n",
    "          'stall_disabili_capacity','stall_disabili_freeslots']\n",
    "zones[to_int] = zones[to_int].astype(int)\n",
    "total_zonespaces = zones[zones.ts == timestamp_zones].capacity.sum()\n",
    "total_zonespaces_free = zones[zones.ts == timestamp_zones].freeslots.sum()\n",
    "total_zonespaces_blu = zones[zones.ts == timestamp_zones].stall_blu_capacity.sum()\n",
    "total_zonespaces_blu_free = zones[zones.ts == timestamp_zones].stall_blu_freeslots.sum()\n",
    "total_zonespaces_carico_scarico = zones[zones.ts == timestamp_zones]['stall_carico-scarico_capacity'].sum()\n",
    "total_zonespaces_carico_scarico_free = zones[zones.ts == timestamp_zones]['stall_carico-scarico_freeslots'].sum()\n",
    "total_zonespaces_disabili = zones[zones.ts == timestamp_zones].stall_disabili_capacity.sum()\n",
    "total_zonespaces_disabili_free = zones[zones.ts == timestamp_zones].stall_disabili_freeslots.sum()\n",
    "total_parks = len(parks[parks['type'] == 'park'].name.unique())\n",
    "total_ciclobox = len(parks[parks['type'] == 'bike'].name.unique())\n",
    "total_zones = len(zones.name.unique())\n",
    "\n",
    "# Variabili con i nomi delle strutture e i valori\n",
    "structures_names = list(parks[(parks['type'] == 'park')].name.unique())"
   ]
  },
  {
   "cell_type": "code",
   "execution_count": 86,
   "metadata": {},
   "outputs": [],
   "source": [
    "carparkspaces_pro_structures_capacity = list(parks[(parks['type'] == 'park') & (parks.currentTimestamp == timestamp_parks)].capacity)\n",
    "carparkspaces_pro_structures_free = list(parks[(parks['type'] == 'park') & (parks.currentTimestamp == timestamp_parks)].freeslots)\n",
    "carparkspaces_pro_structures_busy = [c - f for c, f in zip(carparkspaces_pro_structures_capacity, carparkspaces_pro_structures_free)]"
   ]
  },
  {
   "cell_type": "code",
   "execution_count": 87,
   "metadata": {},
   "outputs": [],
   "source": [
    "percentage_structures_busy = round((sum(carparkspaces_pro_structures_busy) / sum(carparkspaces_pro_structures_capacity))*100)"
   ]
  },
  {
   "cell_type": "code",
   "execution_count": 88,
   "metadata": {},
   "outputs": [],
   "source": [
    "filtered_parks = parks[(parks['type'] == 'park')][['name','freeslots','capacity','currentTimestamp']]"
   ]
  },
  {
   "cell_type": "code",
   "execution_count": 89,
   "metadata": {
    "vscode": {
     "languageId": "ruby"
    }
   },
   "outputs": [
    {
     "name": "stderr",
     "output_type": "stream",
     "text": [
      "/tmp/ipykernel_34551/474376902.py:8: FutureWarning: 'T' is deprecated and will be removed in a future version, please use 'min' instead.\n",
      "  resampled_parks3h = filtered_parks3h.groupby('name').resample('5T').mean().reset_index()\n",
      "/tmp/ipykernel_34551/474376902.py:9: FutureWarning: DataFrameGroupBy.fillna is deprecated and will be removed in a future version. Use obj.ffill() or obj.bfill() for forward or backward filling instead. If you want to fill with a single value, use DataFrame.fillna instead\n",
      "  resampled_parks3h[['freeslots', 'capacity']] = resampled_parks3h.groupby('name')[['freeslots', 'capacity']].fillna(method='ffill')\n",
      "/tmp/ipykernel_34551/474376902.py:9: FutureWarning: DataFrame.fillna with 'method' is deprecated and will raise in a future version. Use obj.ffill() or obj.bfill() instead.\n",
      "  resampled_parks3h[['freeslots', 'capacity']] = resampled_parks3h.groupby('name')[['freeslots', 'capacity']].fillna(method='ffill')\n"
     ]
    }
   ],
   "source": [
    "# Filtra i dati per le ultime 3 ore\n",
    "end_time = timestamp_parks\n",
    "start_time = end_time - pd.Timedelta(hours=24)\n",
    "filtered_parks3h = filtered_parks[(filtered_parks['currentTimestamp'] >= start_time) & (filtered_parks['currentTimestamp'] <= end_time)]\n",
    "# Imposta 'currentTimestamp' come indice\n",
    "filtered_parks3h.set_index('currentTimestamp', inplace=True)\n",
    "# Resample ogni 15 minuti e calcola la media per ciascun 'name'\n",
    "resampled_parks3h = filtered_parks3h.groupby('name').resample('5T').mean().reset_index()\n",
    "resampled_parks3h[['freeslots', 'capacity']] = resampled_parks3h.groupby('name')[['freeslots', 'capacity']].fillna(method='ffill')\n",
    "resampled_parks3h[['freeslots', 'capacity']] = resampled_parks3h[['freeslots', 'capacity']].astype(int)\n",
    "#resampled_parks3h['timestamp'] = resampled_parks3h['currentTimestamp'].dt.tz_localize('UTC').dt.tz_convert('Europe/Rome')"
   ]
  },
  {
   "cell_type": "code",
   "execution_count": 90,
   "metadata": {
    "vscode": {
     "languageId": "javascript"
    }
   },
   "outputs": [],
   "source": [
    "#resampled_parks3h['timestamp'] = resampled_parks3h['currentTimestamp'].dt.tz_localize('UTC').dt.tz_convert('Europe/Rome')"
   ]
  },
  {
   "cell_type": "code",
   "execution_count": 91,
   "metadata": {},
   "outputs": [],
   "source": [
    "# Calcola la somma di freeslots e capacity per ciascun timestamp\n",
    "# sum_freeslots = resampled_parks3h.groupby('currentTimestamp')['freeslots'].sum().reset_index()\n",
    "# sum_capacity = resampled_parks3h.groupby('currentTimestamp')['capacity'].sum().reset_index()\n",
    "# Unisci i risultati in un unico DataFrame\n",
    "# sum_df = sum_freeslots.merge(sum_capacity, on='currentTimestamp')\n",
    "# sum_df['name'] = 'strutture'\n",
    "# Aggiungi le righe calcolate a resampled_parks3h\n",
    "# resampled_parks3h = pd.concat([resampled_parks3h, sum_df], ignore_index=True)\n",
    "# Ordina il DataFrame per currentTimestamp e name\n",
    "# resampled_parks3h = resampled_parks3h.sort_values(by=['currentTimestamp', 'name']).reset_index(drop=True)\n",
    "#resampled_parks3h['timestamp'] = resampled_parks3h['timestamp'].fillna(resampled_parks3h['currentTimestamp'].dt.tz_localize('UTC').dt.tz_convert('Europe/Rome'))\n",
    "#del resampled_parks3h['currentTimestamp']"
   ]
  },
  {
   "cell_type": "code",
   "execution_count": 92,
   "metadata": {},
   "outputs": [],
   "source": [
    "resampled_parks3h['diffhour'] = resampled_parks3h['currentTimestamp'].apply(lambda x: (x.tz_localize('UTC').astimezone(rome_tz).utcoffset().total_seconds() / 3600))\n",
    "resampled_parks3h['timestamp'] = resampled_parks3h['currentTimestamp'] + pd.to_timedelta(resampled_parks3h['diffhour'], unit='h')"
   ]
  },
  {
   "cell_type": "code",
   "execution_count": 93,
   "metadata": {},
   "outputs": [],
   "source": [
    "resampled_parks3h['timestamp'] = resampled_parks3h['timestamp'].dt.strftime('%Y-%m-%d %H:%M')"
   ]
  },
  {
   "cell_type": "code",
   "execution_count": 94,
   "metadata": {},
   "outputs": [],
   "source": [
    "del resampled_parks3h['currentTimestamp']"
   ]
  },
  {
   "cell_type": "code",
   "execution_count": 95,
   "metadata": {},
   "outputs": [],
   "source": [
    "del resampled_parks3h['diffhour']"
   ]
  },
  {
   "cell_type": "code",
   "execution_count": 96,
   "metadata": {},
   "outputs": [],
   "source": [
    "resampled_parks3h['occupied'] = resampled_parks3h['capacity'] - resampled_parks3h['freeslots']"
   ]
  },
  {
   "cell_type": "code",
   "execution_count": 97,
   "metadata": {},
   "outputs": [
    {
     "data": {
      "text/plain": [
       "array(['Garage Autosilo Buonconsiglio - P3', 'Garage Centro Europa - P2',\n",
       "       'Garage Parcheggio Duomo - P5', 'Garage piazza Fiera - P4',\n",
       "       'Parcheggio Area ex Zuffo - P9',\n",
       "       'Parcheggio Cittadella dello studente - P6',\n",
       "       'Parcheggio Santa Chiara', 'Parcheggio piazzale Sanseverino - P7',\n",
       "       'Parcheggio via Monte Baldo - P8'], dtype=object)"
      ]
     },
     "execution_count": 97,
     "metadata": {},
     "output_type": "execute_result"
    }
   ],
   "source": [
    "resampled_parks3h.name.unique()"
   ]
  },
  {
   "cell_type": "code",
   "execution_count": 98,
   "metadata": {},
   "outputs": [
    {
     "data": {
      "text/html": [
       "<div>\n",
       "<style scoped>\n",
       "    .dataframe tbody tr th:only-of-type {\n",
       "        vertical-align: middle;\n",
       "    }\n",
       "\n",
       "    .dataframe tbody tr th {\n",
       "        vertical-align: top;\n",
       "    }\n",
       "\n",
       "    .dataframe thead th {\n",
       "        text-align: right;\n",
       "    }\n",
       "</style>\n",
       "<table border=\"1\" class=\"dataframe\">\n",
       "  <thead>\n",
       "    <tr style=\"text-align: right;\">\n",
       "      <th></th>\n",
       "      <th>name</th>\n",
       "      <th>freeslots</th>\n",
       "      <th>capacity</th>\n",
       "      <th>timestamp</th>\n",
       "      <th>occupied</th>\n",
       "    </tr>\n",
       "  </thead>\n",
       "  <tbody>\n",
       "    <tr>\n",
       "      <th>0</th>\n",
       "      <td>Garage Autosilo Buonconsiglio - P3</td>\n",
       "      <td>75</td>\n",
       "      <td>188</td>\n",
       "      <td>2025-03-12 23:15</td>\n",
       "      <td>113</td>\n",
       "    </tr>\n",
       "    <tr>\n",
       "      <th>1</th>\n",
       "      <td>Garage Autosilo Buonconsiglio - P3</td>\n",
       "      <td>75</td>\n",
       "      <td>188</td>\n",
       "      <td>2025-03-12 23:20</td>\n",
       "      <td>113</td>\n",
       "    </tr>\n",
       "  </tbody>\n",
       "</table>\n",
       "</div>"
      ],
      "text/plain": [
       "                                 name  freeslots  capacity         timestamp  \\\n",
       "0  Garage Autosilo Buonconsiglio - P3         75       188  2025-03-12 23:15   \n",
       "1  Garage Autosilo Buonconsiglio - P3         75       188  2025-03-12 23:20   \n",
       "\n",
       "   occupied  \n",
       "0       113  \n",
       "1       113  "
      ]
     },
     "execution_count": 98,
     "metadata": {},
     "output_type": "execute_result"
    }
   ],
   "source": [
    "resampled_parks3h.head(2)"
   ]
  },
  {
   "cell_type": "code",
   "execution_count": 99,
   "metadata": {},
   "outputs": [],
   "source": [
    "# Creare la stringa JavaScript\n",
    "js_data = \"var riverdatastrutture = [\\n\"\n",
    "\n",
    "for _, row in resampled_parks3h.iterrows():\n",
    "    #js_data += f\"  {{ name: '{row['name']}', freeslots: {row['freeslots']}, capacity: {row['capacity']}, time: '{row['timestamp']}' }},\\n\"\n",
    "    js_data += f\"  ['{row['timestamp']}', {row['occupied']}, '{row['name']}'],\\n\"\n",
    "js_data += \"];\""
   ]
  },
  {
   "cell_type": "code",
   "execution_count": 100,
   "metadata": {},
   "outputs": [
    {
     "name": "stdout",
     "output_type": "stream",
     "text": [
      "File 'docs/data/data.js' generated\n"
     ]
    }
   ],
   "source": [
    "filename = \"docs\" + os.sep + \"data\" + os.sep + \"data.js\"\n",
    "\n",
    "# Creazione del contenuto\n",
    "content = f\"\"\"\n",
    "const lastime_parks=\"{lastime_parks_to_print}\";\n",
    "const total_carparkspaces={total_carparkspaces};\n",
    "const total_carparkspaces_free={total_carparkspaces_free};\n",
    "const total_bikeparkspaces={total_bikeparkspaces};\n",
    "const total_bikeparkspaces_free={total_bikeparkspaces_free};\n",
    "const total_zonespaces={total_zonespaces};\n",
    "const total_zonespaces_free={total_zonespaces_free};\n",
    "const total_zonespaces_blu={total_zonespaces_blu};\n",
    "const total_zonespaces_blu_free={total_zonespaces_blu_free};\n",
    "const total_zonespaces_carico_scarico={total_zonespaces_carico_scarico};\n",
    "const total_zonespaces_carico_scarico_free={total_zonespaces_carico_scarico_free};\n",
    "const total_zonespaces_disabili={total_zonespaces_disabili};\n",
    "const total_zonespaces_disabili_free={total_zonespaces_disabili_free};\n",
    "const total_parks={total_parks};\n",
    "const total_ciclobox={total_ciclobox};\n",
    "const total_zones={total_zones};\n",
    "const structures_names={structures_names};\n",
    "const total_structures_occupied={carparkspaces_pro_structures_busy};\n",
    "const total_structures_free={carparkspaces_pro_structures_free};\n",
    "const percentage_structures_busy={percentage_structures_busy};\n",
    "\\n{js_data}\n",
    "\"\"\"\n",
    "\n",
    "with open(filename, \"w\") as file:\n",
    "    file.write(content.strip())\n",
    "\n",
    "print(f\"File '{filename}' generated\")\n",
    "\n",
    "\n"
   ]
  }
 ],
 "metadata": {
  "kernelspec": {
   "display_name": "Python 3",
   "language": "python",
   "name": "python3"
  },
  "language_info": {
   "codemirror_mode": {
    "name": "ipython",
    "version": 3
   },
   "file_extension": ".py",
   "mimetype": "text/x-python",
   "name": "python",
   "nbconvert_exporter": "python",
   "pygments_lexer": "ipython3",
   "version": "3.12.7"
  }
 },
 "nbformat": 4,
 "nbformat_minor": 2
}
