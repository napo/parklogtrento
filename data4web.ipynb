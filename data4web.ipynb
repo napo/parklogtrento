{
 "cells": [
  {
   "cell_type": "code",
   "execution_count": 208,
   "metadata": {},
   "outputs": [
    {
     "data": {
      "text/plain": [
       "'it_IT.UTF-8'"
      ]
     },
     "execution_count": 208,
     "metadata": {},
     "output_type": "execute_result"
    }
   ],
   "source": [
    "import pandas as pd\n",
    "import geopandas as gpd\n",
    "from datetime import datetime\n",
    "import json\n",
    "import numpy as np\n",
    "import locale\n",
    "import os\n",
    "# Imposta la lingua italiana\n",
    "locale.setlocale(locale.LC_TIME, 'it_IT.UTF-8')"
   ]
  },
  {
   "cell_type": "code",
   "execution_count": 209,
   "metadata": {},
   "outputs": [],
   "source": [
    "PARKS_GEOPARQUET = \"data\" + os.sep + \"parks.geoparquet\"\n",
    "ZONES_GEOPARQUET = \"data\" + os.sep + \"zones.geoparquet\"\n"
   ]
  },
  {
   "cell_type": "code",
   "execution_count": 210,
   "metadata": {},
   "outputs": [],
   "source": [
    "parks = gpd.read_parquet(PARKS_GEOPARQUET)\n",
    "zones = gpd.read_parquet(ZONES_GEOPARQUET)"
   ]
  },
  {
   "cell_type": "code",
   "execution_count": 211,
   "metadata": {},
   "outputs": [],
   "source": [
    "descriptions = {}"
   ]
  },
  {
   "cell_type": "code",
   "execution_count": 212,
   "metadata": {},
   "outputs": [
    {
     "data": {
      "text/plain": [
       "Index(['id', 'driver', 'geom', 'name', 'type', 'city', 'color', 'capacity',\n",
       "       'freeslots', 'ts', 'stall_blu_capacity', 'stall_blu_freeslots',\n",
       "       'stall_blu_ts', 'stall_carico-scarico_capacity',\n",
       "       'stall_carico-scarico_freeslots', 'stall_carico-scarico_ts',\n",
       "       'stall_disabili_capacity', 'stall_disabili_freeslots',\n",
       "       'stall_disabili_ts'],\n",
       "      dtype='object')"
      ]
     },
     "execution_count": 212,
     "metadata": {},
     "output_type": "execute_result"
    }
   ],
   "source": [
    "zones.columns"
   ]
  },
  {
   "cell_type": "code",
   "execution_count": 213,
   "metadata": {},
   "outputs": [],
   "source": [
    "# Assuming parks.currentTimestamp contains the timestamp\n",
    "timestamp_parks = parks.currentTimestamp.max()\n",
    "lastime_parks = timestamp_parks.strftime('%d/%m/%Y %H:%M')\n",
    "lastime_parks = timestamp_parks.strftime('%d %B %Y ore %H:%M')"
   ]
  },
  {
   "cell_type": "code",
   "execution_count": 214,
   "metadata": {},
   "outputs": [],
   "source": [
    "descriptions['timestamp_parks'] = lastime_parks"
   ]
  },
  {
   "cell_type": "code",
   "execution_count": 215,
   "metadata": {},
   "outputs": [],
   "source": [
    "# Assuming parks.currentTimestamp contains the timestamp\n",
    "timestamp_zones = zones.ts.max()\n",
    "lastime_zones = timestamp_zones.strftime('%d/%m/%Y %H:%M')"
   ]
  },
  {
   "cell_type": "code",
   "execution_count": 216,
   "metadata": {},
   "outputs": [],
   "source": [
    "total_carparkspaces = parks[(parks['type'] == 'park') & (parks.currentTimestamp == timestamp_parks)].capacity.sum()\n",
    "total_carparkspaces_free = parks[(parks['type'] == 'park') & (parks.currentTimestamp == timestamp_parks)].freeslots.sum()\n",
    "total_bikeparkspaces = parks[(parks['type'] == 'bike') & (parks.currentTimestamp == timestamp_parks)].capacity.sum()\n",
    "total_bikeparkspaces_free = parks[(parks['type'] == 'bike') & (parks.currentTimestamp == timestamp_parks)].freeslots.sum()"
   ]
  },
  {
   "cell_type": "code",
   "execution_count": 217,
   "metadata": {},
   "outputs": [],
   "source": [
    "descriptions[\"total_carparkspaces\"] = total_carparkspaces\n",
    "descriptions[\"total_carparkspaces_free\"] = total_carparkspaces_free\n",
    "descriptions[\"total_bikespaces\"] = total_bikeparkspaces\n",
    "descriptions[\"total_bikespaces_free\"] = total_bikeparkspaces_free"
   ]
  },
  {
   "cell_type": "code",
   "execution_count": 218,
   "metadata": {},
   "outputs": [],
   "source": [
    "to_int = ['stall_blu_capacity','stall_blu_freeslots',\n",
    "          'stall_carico-scarico_capacity','stall_carico-scarico_freeslots',\n",
    "          'stall_disabili_capacity','stall_disabili_freeslots']\n",
    "zones[to_int] = zones[to_int].astype(int)"
   ]
  },
  {
   "cell_type": "code",
   "execution_count": 219,
   "metadata": {},
   "outputs": [],
   "source": [
    "total_zonespaces = zones[zones.ts == timestamp_zones].capacity.sum()\n",
    "total_zonespaces_free = zones[zones.ts == timestamp_zones].freeslots.sum()\n",
    "total_zonespaces_blu = zones[zones.ts == timestamp_zones].stall_blu_capacity.sum()\n",
    "total_zonespaces_blu_free = zones[zones.ts == timestamp_zones].stall_blu_freeslots.sum()\n",
    "total_zonespaces_carico_scarico = zones[zones.ts == timestamp_zones]['stall_carico-scarico_capacity'].sum()\n",
    "total_zonespaces_carico_scarico_free = zones[zones.ts == timestamp_zones]['stall_carico-scarico_freeslots'].sum()\n",
    "total_zonespaces_disabili = zones[zones.ts == timestamp_zones].stall_disabili_capacity.sum()\n",
    "total_zonespaces_disabili_free = zones[zones.ts == timestamp_zones].stall_disabili_freeslots.sum()"
   ]
  },
  {
   "cell_type": "code",
   "execution_count": 220,
   "metadata": {},
   "outputs": [],
   "source": [
    "descriptions[\"total_zonespaces\"] = total_zonespaces\n",
    "descriptions[\"total_zonespaces_free\"] = total_zonespaces_free\n",
    "descriptions[\"total_zonespaces_blu\"] = total_zonespaces_blu\n",
    "descriptions[\"total_zonespaces_blu_free\"] = total_zonespaces_blu_free\n",
    "descriptions[\"total_zonespaces_carico_scarico\"] = total_zonespaces_carico_scarico\n",
    "descriptions[\"total_zonespaces_carico_scarico_free\"] = total_zonespaces_carico_scarico_free\n",
    "descriptions[\"total_zonespaces_disabili\"] = total_zonespaces_disabili\n",
    "descriptions[\"total_zonespaces_disabili_free\"] = total_zonespaces_disabili_free"
   ]
  },
  {
   "cell_type": "code",
   "execution_count": 221,
   "metadata": {},
   "outputs": [],
   "source": [
    "total_parks = len(parks[parks['type'] == 'park'].name.unique())\n",
    "total_ciclobox = len(parks[parks['type'] == 'bike'].name.unique())"
   ]
  },
  {
   "cell_type": "code",
   "execution_count": 222,
   "metadata": {},
   "outputs": [],
   "source": [
    "descriptions[\"total_parks\"] = total_parks\n",
    "descriptions[\"total_ciclobox\"] = total_ciclobox"
   ]
  },
  {
   "cell_type": "code",
   "execution_count": 223,
   "metadata": {},
   "outputs": [],
   "source": [
    "total_zones = len(zones.name.unique())"
   ]
  },
  {
   "cell_type": "code",
   "execution_count": null,
   "metadata": {},
   "outputs": [],
   "source": [
    "descriptions[\"total_zones\"] = total_zones"
   ]
  },
  {
   "cell_type": "code",
   "execution_count": 225,
   "metadata": {},
   "outputs": [
    {
     "data": {
      "text/plain": [
       "array(['Area di 1a corona'], dtype=object)"
      ]
     },
     "execution_count": 225,
     "metadata": {},
     "output_type": "execute_result"
    }
   ],
   "source": [
    "zones[zones.stall_disabili_capacity > 0].name.unique()\n",
    "zones[zones[\"stall_carico-scarico_capacity\"] > 0].name.unique()"
   ]
  },
  {
   "cell_type": "code",
   "execution_count": 226,
   "metadata": {},
   "outputs": [],
   "source": [
    "descriptions = {k: int(v) if isinstance(v, np.integer) else v for k, v in descriptions.items()}"
   ]
  },
  {
   "cell_type": "code",
   "execution_count": 227,
   "metadata": {},
   "outputs": [],
   "source": [
    "# Scrittura su file JSON\n",
    "with open(\"docs/data/descriptions.json\", \"w\") as f:\n",
    "    json.dump(descriptions, f, indent=4)"
   ]
  }
 ],
 "metadata": {
  "kernelspec": {
   "display_name": "Python 3",
   "language": "python",
   "name": "python3"
  },
  "language_info": {
   "codemirror_mode": {
    "name": "ipython",
    "version": 3
   },
   "file_extension": ".py",
   "mimetype": "text/x-python",
   "name": "python",
   "nbconvert_exporter": "python",
   "pygments_lexer": "ipython3",
   "version": "3.12.7"
  }
 },
 "nbformat": 4,
 "nbformat_minor": 2
}
